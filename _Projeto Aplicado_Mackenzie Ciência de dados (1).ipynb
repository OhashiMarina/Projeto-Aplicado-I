{
 "cells": [
  {
   "cell_type": "code",
   "execution_count": 21,
   "id": "a22390c0",
   "metadata": {},
   "outputs": [],
   "source": [
    "import pandas as pd\n",
    "import numpy as np\n",
    "import matplotlib.pyplot as plt\n",
    "import os\n",
    "import seaborn as sns\n",
    "import statistics"
   ]
  },
  {
   "cell_type": "code",
   "execution_count": 2,
   "id": "923bffb0",
   "metadata": {},
   "outputs": [],
   "source": [
    "os.chdir('C:\\\\Users\\\\User.PC-ESTACAO\\\\Downloads')\n",
    "df = pd.read_csv('SP_poluicao_dados.csv')"
   ]
  },
  {
   "cell_type": "code",
   "execution_count": 3,
   "id": "353a2a71",
   "metadata": {},
   "outputs": [
    {
     "data": {
      "text/html": [
       "<div>\n",
       "<style scoped>\n",
       "    .dataframe tbody tr th:only-of-type {\n",
       "        vertical-align: middle;\n",
       "    }\n",
       "\n",
       "    .dataframe tbody tr th {\n",
       "        vertical-align: top;\n",
       "    }\n",
       "\n",
       "    .dataframe thead th {\n",
       "        text-align: right;\n",
       "    }\n",
       "</style>\n",
       "<table border=\"1\" class=\"dataframe\">\n",
       "  <thead>\n",
       "    <tr style=\"text-align: right;\">\n",
       "      <th></th>\n",
       "      <th>Unnamed: 0</th>\n",
       "      <th>ID</th>\n",
       "      <th>Data</th>\n",
       "      <th>Hora</th>\n",
       "      <th>Estacao</th>\n",
       "      <th>Codigo</th>\n",
       "      <th>Poluente</th>\n",
       "      <th>Valor</th>\n",
       "      <th>Unidade</th>\n",
       "      <th>Tipo</th>\n",
       "    </tr>\n",
       "  </thead>\n",
       "  <tbody>\n",
       "    <tr>\n",
       "      <th>0</th>\n",
       "      <td>0</td>\n",
       "      <td>0</td>\n",
       "      <td>2015-01-01</td>\n",
       "      <td>01:00</td>\n",
       "      <td>Americana - Vila Santa Maria</td>\n",
       "      <td>SP01</td>\n",
       "      <td>MP10</td>\n",
       "      <td>65.0</td>\n",
       "      <td>ug/m3</td>\n",
       "      <td>automatica</td>\n",
       "    </tr>\n",
       "    <tr>\n",
       "      <th>1</th>\n",
       "      <td>1</td>\n",
       "      <td>1</td>\n",
       "      <td>2015-01-01</td>\n",
       "      <td>02:00</td>\n",
       "      <td>Americana - Vila Santa Maria</td>\n",
       "      <td>SP01</td>\n",
       "      <td>MP10</td>\n",
       "      <td>98.0</td>\n",
       "      <td>ug/m3</td>\n",
       "      <td>automatica</td>\n",
       "    </tr>\n",
       "    <tr>\n",
       "      <th>2</th>\n",
       "      <td>2</td>\n",
       "      <td>2</td>\n",
       "      <td>2015-01-01</td>\n",
       "      <td>03:00</td>\n",
       "      <td>Americana - Vila Santa Maria</td>\n",
       "      <td>SP01</td>\n",
       "      <td>MP10</td>\n",
       "      <td>79.0</td>\n",
       "      <td>ug/m3</td>\n",
       "      <td>automatica</td>\n",
       "    </tr>\n",
       "    <tr>\n",
       "      <th>3</th>\n",
       "      <td>3</td>\n",
       "      <td>3</td>\n",
       "      <td>2015-01-01</td>\n",
       "      <td>04:00</td>\n",
       "      <td>Americana - Vila Santa Maria</td>\n",
       "      <td>SP01</td>\n",
       "      <td>MP10</td>\n",
       "      <td>53.0</td>\n",
       "      <td>ug/m3</td>\n",
       "      <td>automatica</td>\n",
       "    </tr>\n",
       "    <tr>\n",
       "      <th>4</th>\n",
       "      <td>4</td>\n",
       "      <td>4</td>\n",
       "      <td>2015-01-01</td>\n",
       "      <td>05:00</td>\n",
       "      <td>Americana - Vila Santa Maria</td>\n",
       "      <td>SP01</td>\n",
       "      <td>MP10</td>\n",
       "      <td>35.0</td>\n",
       "      <td>ug/m3</td>\n",
       "      <td>automatica</td>\n",
       "    </tr>\n",
       "  </tbody>\n",
       "</table>\n",
       "</div>"
      ],
      "text/plain": [
       "   Unnamed: 0  ID        Data   Hora                       Estacao Codigo  \\\n",
       "0           0   0  2015-01-01  01:00  Americana - Vila Santa Maria   SP01   \n",
       "1           1   1  2015-01-01  02:00  Americana - Vila Santa Maria   SP01   \n",
       "2           2   2  2015-01-01  03:00  Americana - Vila Santa Maria   SP01   \n",
       "3           3   3  2015-01-01  04:00  Americana - Vila Santa Maria   SP01   \n",
       "4           4   4  2015-01-01  05:00  Americana - Vila Santa Maria   SP01   \n",
       "\n",
       "  Poluente  Valor Unidade        Tipo  \n",
       "0     MP10   65.0   ug/m3  automatica  \n",
       "1     MP10   98.0   ug/m3  automatica  \n",
       "2     MP10   79.0   ug/m3  automatica  \n",
       "3     MP10   53.0   ug/m3  automatica  \n",
       "4     MP10   35.0   ug/m3  automatica  "
      ]
     },
     "execution_count": 3,
     "metadata": {},
     "output_type": "execute_result"
    }
   ],
   "source": [
    "df.head()"
   ]
  },
  {
   "cell_type": "code",
   "execution_count": 4,
   "id": "67c7eee4",
   "metadata": {},
   "outputs": [
    {
     "name": "stdout",
     "output_type": "stream",
     "text": [
      "<class 'pandas.core.frame.DataFrame'>\n",
      "RangeIndex: 10980515 entries, 0 to 10980514\n",
      "Data columns (total 10 columns):\n",
      " #   Column      Dtype  \n",
      "---  ------      -----  \n",
      " 0   Unnamed: 0  int64  \n",
      " 1   ID          int64  \n",
      " 2   Data        object \n",
      " 3   Hora        object \n",
      " 4   Estacao     object \n",
      " 5   Codigo      object \n",
      " 6   Poluente    object \n",
      " 7   Valor       float64\n",
      " 8   Unidade     object \n",
      " 9   Tipo        object \n",
      "dtypes: float64(1), int64(2), object(7)\n",
      "memory usage: 837.7+ MB\n"
     ]
    }
   ],
   "source": [
    "df.info()"
   ]
  },
  {
   "cell_type": "code",
   "execution_count": 5,
   "id": "975bf9fb",
   "metadata": {},
   "outputs": [
    {
     "data": {
      "text/html": [
       "<div>\n",
       "<style scoped>\n",
       "    .dataframe tbody tr th:only-of-type {\n",
       "        vertical-align: middle;\n",
       "    }\n",
       "\n",
       "    .dataframe tbody tr th {\n",
       "        vertical-align: top;\n",
       "    }\n",
       "\n",
       "    .dataframe thead th {\n",
       "        text-align: right;\n",
       "    }\n",
       "</style>\n",
       "<table border=\"1\" class=\"dataframe\">\n",
       "  <thead>\n",
       "    <tr style=\"text-align: right;\">\n",
       "      <th></th>\n",
       "      <th>Unnamed: 0</th>\n",
       "      <th>ID</th>\n",
       "      <th>Data</th>\n",
       "      <th>Hora</th>\n",
       "      <th>Estacao</th>\n",
       "      <th>Codigo</th>\n",
       "      <th>Poluente</th>\n",
       "      <th>Valor</th>\n",
       "      <th>Unidade</th>\n",
       "      <th>Tipo</th>\n",
       "    </tr>\n",
       "  </thead>\n",
       "  <tbody>\n",
       "    <tr>\n",
       "      <th>count</th>\n",
       "      <td>1.098052e+07</td>\n",
       "      <td>1.098052e+07</td>\n",
       "      <td>10980515</td>\n",
       "      <td>10980515</td>\n",
       "      <td>10980515</td>\n",
       "      <td>10980515</td>\n",
       "      <td>10980515</td>\n",
       "      <td>1.098052e+07</td>\n",
       "      <td>10980515</td>\n",
       "      <td>10980515</td>\n",
       "    </tr>\n",
       "    <tr>\n",
       "      <th>unique</th>\n",
       "      <td>NaN</td>\n",
       "      <td>NaN</td>\n",
       "      <td>2557</td>\n",
       "      <td>24</td>\n",
       "      <td>87</td>\n",
       "      <td>87</td>\n",
       "      <td>9</td>\n",
       "      <td>NaN</td>\n",
       "      <td>1</td>\n",
       "      <td>2</td>\n",
       "    </tr>\n",
       "    <tr>\n",
       "      <th>top</th>\n",
       "      <td>NaN</td>\n",
       "      <td>NaN</td>\n",
       "      <td>2017-04-19</td>\n",
       "      <td>17:00</td>\n",
       "      <td>Santos - Ponta da Praia</td>\n",
       "      <td>SP64</td>\n",
       "      <td>MP10</td>\n",
       "      <td>NaN</td>\n",
       "      <td>ug/m3</td>\n",
       "      <td>automatica</td>\n",
       "    </tr>\n",
       "    <tr>\n",
       "      <th>freq</th>\n",
       "      <td>NaN</td>\n",
       "      <td>NaN</td>\n",
       "      <td>5674</td>\n",
       "      <td>469259</td>\n",
       "      <td>287897</td>\n",
       "      <td>287897</td>\n",
       "      <td>2883216</td>\n",
       "      <td>NaN</td>\n",
       "      <td>10980515</td>\n",
       "      <td>10971842</td>\n",
       "    </tr>\n",
       "    <tr>\n",
       "      <th>mean</th>\n",
       "      <td>5.490257e+06</td>\n",
       "      <td>5.490257e+06</td>\n",
       "      <td>NaN</td>\n",
       "      <td>NaN</td>\n",
       "      <td>NaN</td>\n",
       "      <td>NaN</td>\n",
       "      <td>NaN</td>\n",
       "      <td>8.330876e+01</td>\n",
       "      <td>NaN</td>\n",
       "      <td>NaN</td>\n",
       "    </tr>\n",
       "    <tr>\n",
       "      <th>std</th>\n",
       "      <td>3.169802e+06</td>\n",
       "      <td>3.169802e+06</td>\n",
       "      <td>NaN</td>\n",
       "      <td>NaN</td>\n",
       "      <td>NaN</td>\n",
       "      <td>NaN</td>\n",
       "      <td>NaN</td>\n",
       "      <td>2.500071e+02</td>\n",
       "      <td>NaN</td>\n",
       "      <td>NaN</td>\n",
       "    </tr>\n",
       "    <tr>\n",
       "      <th>min</th>\n",
       "      <td>0.000000e+00</td>\n",
       "      <td>0.000000e+00</td>\n",
       "      <td>NaN</td>\n",
       "      <td>NaN</td>\n",
       "      <td>NaN</td>\n",
       "      <td>NaN</td>\n",
       "      <td>NaN</td>\n",
       "      <td>0.000000e+00</td>\n",
       "      <td>NaN</td>\n",
       "      <td>NaN</td>\n",
       "    </tr>\n",
       "    <tr>\n",
       "      <th>25%</th>\n",
       "      <td>2.745128e+06</td>\n",
       "      <td>2.745128e+06</td>\n",
       "      <td>NaN</td>\n",
       "      <td>NaN</td>\n",
       "      <td>NaN</td>\n",
       "      <td>NaN</td>\n",
       "      <td>NaN</td>\n",
       "      <td>9.000000e+00</td>\n",
       "      <td>NaN</td>\n",
       "      <td>NaN</td>\n",
       "    </tr>\n",
       "    <tr>\n",
       "      <th>50%</th>\n",
       "      <td>5.490257e+06</td>\n",
       "      <td>5.490257e+06</td>\n",
       "      <td>NaN</td>\n",
       "      <td>NaN</td>\n",
       "      <td>NaN</td>\n",
       "      <td>NaN</td>\n",
       "      <td>NaN</td>\n",
       "      <td>2.200000e+01</td>\n",
       "      <td>NaN</td>\n",
       "      <td>NaN</td>\n",
       "    </tr>\n",
       "    <tr>\n",
       "      <th>75%</th>\n",
       "      <td>8.235386e+06</td>\n",
       "      <td>8.235386e+06</td>\n",
       "      <td>NaN</td>\n",
       "      <td>NaN</td>\n",
       "      <td>NaN</td>\n",
       "      <td>NaN</td>\n",
       "      <td>NaN</td>\n",
       "      <td>4.500000e+01</td>\n",
       "      <td>NaN</td>\n",
       "      <td>NaN</td>\n",
       "    </tr>\n",
       "    <tr>\n",
       "      <th>max</th>\n",
       "      <td>1.098051e+07</td>\n",
       "      <td>1.098051e+07</td>\n",
       "      <td>NaN</td>\n",
       "      <td>NaN</td>\n",
       "      <td>NaN</td>\n",
       "      <td>NaN</td>\n",
       "      <td>NaN</td>\n",
       "      <td>9.981292e+03</td>\n",
       "      <td>NaN</td>\n",
       "      <td>NaN</td>\n",
       "    </tr>\n",
       "  </tbody>\n",
       "</table>\n",
       "</div>"
      ],
      "text/plain": [
       "          Unnamed: 0            ID        Data      Hora  \\\n",
       "count   1.098052e+07  1.098052e+07    10980515  10980515   \n",
       "unique           NaN           NaN        2557        24   \n",
       "top              NaN           NaN  2017-04-19     17:00   \n",
       "freq             NaN           NaN        5674    469259   \n",
       "mean    5.490257e+06  5.490257e+06         NaN       NaN   \n",
       "std     3.169802e+06  3.169802e+06         NaN       NaN   \n",
       "min     0.000000e+00  0.000000e+00         NaN       NaN   \n",
       "25%     2.745128e+06  2.745128e+06         NaN       NaN   \n",
       "50%     5.490257e+06  5.490257e+06         NaN       NaN   \n",
       "75%     8.235386e+06  8.235386e+06         NaN       NaN   \n",
       "max     1.098051e+07  1.098051e+07         NaN       NaN   \n",
       "\n",
       "                        Estacao    Codigo  Poluente         Valor   Unidade  \\\n",
       "count                  10980515  10980515  10980515  1.098052e+07  10980515   \n",
       "unique                       87        87         9           NaN         1   \n",
       "top     Santos - Ponta da Praia      SP64      MP10           NaN     ug/m3   \n",
       "freq                     287897    287897   2883216           NaN  10980515   \n",
       "mean                        NaN       NaN       NaN  8.330876e+01       NaN   \n",
       "std                         NaN       NaN       NaN  2.500071e+02       NaN   \n",
       "min                         NaN       NaN       NaN  0.000000e+00       NaN   \n",
       "25%                         NaN       NaN       NaN  9.000000e+00       NaN   \n",
       "50%                         NaN       NaN       NaN  2.200000e+01       NaN   \n",
       "75%                         NaN       NaN       NaN  4.500000e+01       NaN   \n",
       "max                         NaN       NaN       NaN  9.981292e+03       NaN   \n",
       "\n",
       "              Tipo  \n",
       "count     10980515  \n",
       "unique           2  \n",
       "top     automatica  \n",
       "freq      10971842  \n",
       "mean           NaN  \n",
       "std            NaN  \n",
       "min            NaN  \n",
       "25%            NaN  \n",
       "50%            NaN  \n",
       "75%            NaN  \n",
       "max            NaN  "
      ]
     },
     "execution_count": 5,
     "metadata": {},
     "output_type": "execute_result"
    }
   ],
   "source": [
    "df.describe(include='all')"
   ]
  },
  {
   "cell_type": "code",
   "execution_count": 7,
   "id": "eb048d84",
   "metadata": {},
   "outputs": [
    {
     "data": {
      "text/plain": [
       "Santos - Ponta da Praia            287897\n",
       "Marg. Tietê - Pte dos Remédios     286634\n",
       "Parque Dom Pedro II                286121\n",
       "Congonhas                          280515\n",
       "Guarulhos - Pimentas               275144\n",
       "                                    ...  \n",
       "Taubaté - Centro                       89\n",
       "Barretos - América                     74\n",
       "Paulínia - João Aranha                 58\n",
       "Paulínia - Bairro Cascata              57\n",
       "Ribeirão Preto - Campos Elíseos        27\n",
       "Name: Estacao, Length: 87, dtype: int64"
      ]
     },
     "execution_count": 7,
     "metadata": {},
     "output_type": "execute_result"
    }
   ],
   "source": [
    "df.Estacao.value_counts()"
   ]
  },
  {
   "cell_type": "code",
   "execution_count": 12,
   "id": "cf11fc35",
   "metadata": {},
   "outputs": [
    {
     "name": "stdout",
     "output_type": "stream",
     "text": [
      "83.30875749937994\n"
     ]
    }
   ],
   "source": [
    "#média, moda e mediana de valores a unidade de concentração do poluente\n",
    "#média\n",
    "media_poluente = df.Valor.mean()\n",
    "print(media_poluente)"
   ]
  },
  {
   "cell_type": "code",
   "execution_count": 28,
   "id": "b90ccdff",
   "metadata": {},
   "outputs": [
    {
     "name": "stdout",
     "output_type": "stream",
     "text": [
      "1.0\n"
     ]
    }
   ],
   "source": [
    "#moda\n",
    "moda_poluente = statistics.mode(df['Valor'])\n",
    "print(moda_poluente)"
   ]
  },
  {
   "cell_type": "code",
   "execution_count": 27,
   "id": "568220ef",
   "metadata": {},
   "outputs": [
    {
     "name": "stdout",
     "output_type": "stream",
     "text": [
      "22.0\n"
     ]
    }
   ],
   "source": [
    "#mediana\n",
    "mediana_poluente = statistics.median(df['Valor'])\n",
    "print(mediana_poluente)"
   ]
  },
  {
   "cell_type": "code",
   "execution_count": 10,
   "id": "9413450d",
   "metadata": {},
   "outputs": [
    {
     "name": "stdout",
     "output_type": "stream",
     "text": [
      "Poluente\n",
      "SO2        4.443398\n",
      "NO        15.103614\n",
      "MP2.5     15.756391\n",
      "FMC       16.407719\n",
      "NO2       25.675854\n",
      "MP10      29.207835\n",
      "O3        39.877003\n",
      "PTS       72.616374\n",
      "CO       712.781792\n",
      "Name: Valor, dtype: float64\n"
     ]
    }
   ],
   "source": [
    "#poluente mais crítico = CO (712.781792)\n",
    "\n",
    "media_por_poluente = df.groupby('Poluente') ['Valor'].mean()\n",
    "media_por_poluente = media_por_poluente.sort_values()\n",
    "print (media_por_poluente)"
   ]
  },
  {
   "cell_type": "code",
   "execution_count": 17,
   "id": "ab402113",
   "metadata": {},
   "outputs": [
    {
     "name": "stdout",
     "output_type": "stream",
     "text": [
      "Soma de poluição por poluente\n",
      "Poluente\n",
      "FMC      6.036400e+04\n",
      "PTS      1.241740e+05\n",
      "SO2      3.538300e+06\n",
      "NO       5.253641e+06\n",
      "MP2.5    1.929507e+07\n",
      "NO2      5.589156e+07\n",
      "MP10     8.421250e+07\n",
      "O3       1.055667e+08\n",
      "CO       6.408307e+08\n",
      "Name: Valor, dtype: float64\n"
     ]
    }
   ],
   "source": [
    "print('Soma de poluição por poluente')\n",
    "soma_por_poluente = df.groupby('Poluente') ['Valor'].sum()\n",
    "soma_por_poluente = soma_por_poluente.sort_values()\n",
    "print (soma_por_poluente)"
   ]
  },
  {
   "cell_type": "code",
   "execution_count": 6,
   "id": "7b632870",
   "metadata": {},
   "outputs": [
    {
     "data": {
      "text/plain": [
       "MP10     2883216\n",
       "O3       2647308\n",
       "NO2      2176814\n",
       "MP2.5    1224587\n",
       "CO        899056\n",
       "SO2       796305\n",
       "NO        347840\n",
       "FMC         3679\n",
       "PTS         1710\n",
       "Name: Poluente, dtype: int64"
      ]
     },
     "execution_count": 6,
     "metadata": {},
     "output_type": "execute_result"
    }
   ],
   "source": [
    "#frequência de valores poluentes\n",
    "\n",
    "df.Poluente.value_counts()"
   ]
  },
  {
   "cell_type": "code",
   "execution_count": 15,
   "id": "fa27f36a",
   "metadata": {},
   "outputs": [
    {
     "name": "stdout",
     "output_type": "stream",
     "text": [
      "Estacao\n",
      "Paulínia - João Aranha            3.413793\n",
      "Franca - Centro                   3.937500\n",
      "Taubaté - Centro                  9.876404\n",
      "Itu - Centro                      9.904321\n",
      "Salto - Centro                   10.842105\n",
      "                                   ...    \n",
      "Santo Amaro                     235.991935\n",
      "Osasco                          242.848337\n",
      "Taboão da Serra                 411.533445\n",
      "Campinas - Centro               411.976846\n",
      "Santo André - Paço Municipal    436.696420\n",
      "Name: Valor, Length: 87, dtype: float64\n"
     ]
    }
   ],
   "source": [
    "#Localidade mais afetada pela poluição\n",
    "\n",
    "media_poluicao_local = df.groupby('Estacao') ['Valor'].mean()\n",
    "media_poluicao_local = media_poluicao_local.sort_values()\n",
    "print(media_poluicao_local)"
   ]
  },
  {
   "cell_type": "code",
   "execution_count": 16,
   "id": "86ab6adb",
   "metadata": {},
   "outputs": [
    {
     "name": "stdout",
     "output_type": "stream",
     "text": [
      "Estacao\n",
      "Paulínia - João Aranha             1.980000e+02\n",
      "Franca - Centro                    3.780000e+02\n",
      "Paulínia - Bairro Cascata          6.690000e+02\n",
      "Taubaté - Centro                   8.790000e+02\n",
      "Ribeirão Preto - Campos Elíseos    1.225000e+03\n",
      "                                       ...     \n",
      "Campinas - Centro                  4.490424e+07\n",
      "Marg. Tietê - Pte dos Remédios     4.863474e+07\n",
      "Taboão da Serra                    6.003820e+07\n",
      "Congonhas                          6.221402e+07\n",
      "Osasco                             6.585173e+07\n",
      "Name: Valor, Length: 87, dtype: float64\n"
     ]
    }
   ],
   "source": [
    "soma_poluicao_local = df.groupby ('Estacao') ['Valor'].sum()\n",
    "soma_poluicao_local = soma_poluicao_local.sort_values()\n",
    "print(soma_poluicao_local)"
   ]
  },
  {
   "cell_type": "code",
   "execution_count": null,
   "id": "eb1a4a9f",
   "metadata": {},
   "outputs": [],
   "source": [
    "#Período do ano com elevação no nível de concentração de poluentes"
   ]
  },
  {
   "cell_type": "code",
   "execution_count": 31,
   "id": "6ecf7a44",
   "metadata": {},
   "outputs": [
    {
     "data": {
      "text/plain": [
       "2017-04-19    5674\n",
       "2017-06-17    5670\n",
       "2017-07-30    5668\n",
       "2017-06-18    5649\n",
       "2017-04-05    5648\n",
       "              ... \n",
       "2015-02-18    3325\n",
       "2015-01-04    3275\n",
       "2015-02-16    3267\n",
       "2015-01-03    3253\n",
       "2015-02-17    3233\n",
       "Name: Data, Length: 2557, dtype: int64"
      ]
     },
     "execution_count": 31,
     "metadata": {},
     "output_type": "execute_result"
    }
   ],
   "source": [
    "df.Data.value_counts()"
   ]
  },
  {
   "cell_type": "code",
   "execution_count": 32,
   "id": "51ceed58",
   "metadata": {},
   "outputs": [
    {
     "name": "stdout",
     "output_type": "stream",
     "text": [
      "Data\n",
      "2021-12-19     31.566687\n",
      "2021-12-07     31.837845\n",
      "2021-12-24     32.489189\n",
      "2021-11-02     32.626503\n",
      "2021-12-08     32.763369\n",
      "                 ...    \n",
      "2015-06-08    231.492320\n",
      "2015-06-09    234.261036\n",
      "2015-08-31    237.156726\n",
      "2016-06-16    258.144115\n",
      "2016-06-17    270.378520\n",
      "Name: Valor, Length: 2557, dtype: float64\n"
     ]
    }
   ],
   "source": [
    "media_por_data = df.groupby('Data') ['Valor'].mean()\n",
    "media_por_data = media_por_data.sort_values()\n",
    "print (media_por_data)"
   ]
  },
  {
   "cell_type": "code",
   "execution_count": null,
   "id": "8c065097",
   "metadata": {},
   "outputs": [],
   "source": [
    "#Horário de maior concentração de poluentes"
   ]
  },
  {
   "cell_type": "code",
   "execution_count": 34,
   "id": "fc7a2b81",
   "metadata": {},
   "outputs": [
    {
     "data": {
      "text/plain": [
       "17:00    469259\n",
       "16:00    469038\n",
       "21:00    468996\n",
       "20:00    468903\n",
       "22:00    468821\n",
       "19:00    468792\n",
       "23:00    468769\n",
       "15:00    468550\n",
       "14:00    468332\n",
       "18:00    468312\n",
       "23:55    467705\n",
       "13:00    467639\n",
       "10:00    466770\n",
       "11:00    466722\n",
       "12:00    466096\n",
       "09:00    465941\n",
       "03:00    465239\n",
       "08:00    465212\n",
       "07:00    464376\n",
       "02:00    457630\n",
       "04:00    440328\n",
       "05:00    435875\n",
       "01:00    383679\n",
       "06:00    379531\n",
       "Name: Hora, dtype: int64"
      ]
     },
     "execution_count": 34,
     "metadata": {},
     "output_type": "execute_result"
    }
   ],
   "source": [
    "df.Hora.value_counts()"
   ]
  },
  {
   "cell_type": "code",
   "execution_count": 33,
   "id": "f8c3522e",
   "metadata": {},
   "outputs": [
    {
     "name": "stdout",
     "output_type": "stream",
     "text": [
      "Hora\n",
      "05:00    36.616766\n",
      "04:00    66.353201\n",
      "03:00    68.214325\n",
      "02:00    75.972857\n",
      "14:00    77.759112\n",
      "15:00    77.984494\n",
      "16:00    78.393515\n",
      "13:00    78.524715\n",
      "06:00    79.713440\n",
      "12:00    79.910682\n",
      "17:00    80.428357\n",
      "11:00    82.824060\n",
      "07:00    83.201412\n",
      "10:00    87.251607\n",
      "18:00    87.518739\n",
      "23:55    90.405120\n",
      "09:00    93.151056\n",
      "08:00    94.975837\n",
      "23:00    95.248183\n",
      "22:00    95.676418\n",
      "21:00    96.107767\n",
      "01:00    96.289421\n",
      "19:00    96.673795\n",
      "20:00    97.430774\n",
      "Name: Valor, dtype: float64\n"
     ]
    }
   ],
   "source": [
    "media_por_hora = df.groupby('Hora') ['Valor'].mean()\n",
    "media_por_hora = media_por_hora.sort_values()\n",
    "print (media_por_hora)"
   ]
  },
  {
   "cell_type": "code",
   "execution_count": null,
   "id": "af70558c",
   "metadata": {},
   "outputs": [],
   "source": []
  }
 ],
 "metadata": {
  "kernelspec": {
   "display_name": "Python 3 (ipykernel)",
   "language": "python",
   "name": "python3"
  },
  "language_info": {
   "codemirror_mode": {
    "name": "ipython",
    "version": 3
   },
   "file_extension": ".py",
   "mimetype": "text/x-python",
   "name": "python",
   "nbconvert_exporter": "python",
   "pygments_lexer": "ipython3",
   "version": "3.9.13"
  }
 },
 "nbformat": 4,
 "nbformat_minor": 5
}
